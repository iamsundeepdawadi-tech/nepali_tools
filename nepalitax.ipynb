{
 "cells": [
  {
   "cell_type": "code",
   "execution_count": 1,
   "id": "3e541950",
   "metadata": {},
   "outputs": [
    {
     "data": {
      "text/html": [
       "<h2>नेपाल आयकर क्याल्कुलेटर (FY 2081/82)</h2>"
      ],
      "text/plain": [
       "<IPython.core.display.HTML object>"
      ]
     },
     "metadata": {},
     "output_type": "display_data"
    },
    {
     "data": {
      "text/html": [
       "<p>आफ्नो मासिक आय र अन्य विवरणहरू प्रविष्ट गरी करको हिसाब गर्नुहोस्।</p>"
      ],
      "text/plain": [
       "<IPython.core.display.HTML object>"
      ]
     },
     "metadata": {},
     "output_type": "display_data"
    },
    {
     "data": {
      "application/vnd.jupyter.widget-view+json": {
       "model_id": "9b3dac1ef1ae4861bb2d2f675e2bfa79",
       "version_major": 2,
       "version_minor": 0
      },
      "text/plain": [
       "VBox(children=(FloatText(value=60000.0, description='मासिक कुल आय (रु):', style=DescriptionStyle(description_w…"
      ]
     },
     "metadata": {},
     "output_type": "display_data"
    },
    {
     "data": {
      "application/vnd.jupyter.widget-view+json": {
       "model_id": "e45e2160c9604dfb9ca5d42081bbb430",
       "version_major": 2,
       "version_minor": 0
      },
      "text/plain": [
       "Output()"
      ]
     },
     "metadata": {},
     "output_type": "display_data"
    }
   ],
   "source": [
    "import ipywidgets as widgets\n",
    "from IPython.display import display, HTML, clear_output\n",
    "import pandas as pd\n",
    "\n",
    "# --- आर्थिक वर्ष २०८१/८२ (2024/25) को लागि आयकर दरहरू ---\n",
    "# स्रोत: नेपाल सरकार, अर्थ मन्त्रालय\n",
    "TAX_SLABS = {\n",
    "    'अविवाहित': [\n",
    "        {'limit': 500000, 'rate': 0.01, 'base_tax': 0},\n",
    "        {'limit': 700000, 'rate': 0.10, 'base_tax': 5000},\n",
    "        {'limit': 1000000, 'rate': 0.20, 'base_tax': 25000},\n",
    "        {'limit': 2000000, 'rate': 0.30, 'base_tax': 85000},\n",
    "        {'limit': 5000000, 'rate': 0.36, 'base_tax': 385000},\n",
    "        {'limit': float('inf'), 'rate': 0.39, 'base_tax': 1465000}\n",
    "    ],\n",
    "    'विवाहित': [\n",
    "        {'limit': 600000, 'rate': 0.01, 'base_tax': 0},\n",
    "        {'limit': 800000, 'rate': 0.10, 'base_tax': 6000},\n",
    "        {'limit': 1100000, 'rate': 0.20, 'base_tax': 26000},\n",
    "        {'limit': 2000000, 'rate': 0.30, 'base_tax': 86000},\n",
    "        {'limit': 5000000, 'rate': 0.36, 'base_tax': 356000},\n",
    "        {'limit': float('inf'), 'rate': 0.39, 'base_tax': 1436000}\n",
    "    ]\n",
    "}\n",
    "\n",
    "def calculate_tax(annual_income, marital_status, has_ssf, pf_cit_contribution=0):\n",
    "    \"\"\"\n",
    "    नेपालको नियम अनुसार वार्षिक आयकर गणना गर्दछ।\n",
    "    \"\"\"\n",
    "    # SSF/PF/CIT योगदानलाई करयोग्य आयबाट घटाउने\n",
    "    # अधिकतम छुट: आयको १/३ वा रु ५,००,००० (जुन कम हुन्छ)\n",
    "    max_deduction = min(annual_income / 3, 500000)\n",
    "    deductible_contribution = min(pf_cit_contribution, max_deduction)\n",
    "    taxable_income = annual_income - deductible_contribution\n",
    "    \n",
    "    if taxable_income <= 0:\n",
    "        return 0, taxable_income\n",
    "\n",
    "    slabs = TAX_SLABS[marital_status]\n",
    "    annual_tax = 0\n",
    "    \n",
    "    # यदि SSF छ भने १% सामाजिक सुरक्षा कर लाग्दैन\n",
    "    start_index = 1 if has_ssf and taxable_income > slabs[0]['limit'] else 0\n",
    "\n",
    "    if has_ssf and taxable_income <= slabs[0]['limit']:\n",
    "        return 0, taxable_income\n",
    "\n",
    "    previous_limit = 0\n",
    "    for i in range(start_index, len(slabs)):\n",
    "        slab = slabs[i]\n",
    "        if taxable_income > previous_limit:\n",
    "            if taxable_income <= slab['limit']:\n",
    "                taxable_at_this_slab = taxable_income - previous_limit\n",
    "                annual_tax = slab['base_tax'] + (taxable_at_this_slab * slab['rate'])\n",
    "                break\n",
    "        previous_limit = slab['limit']\n",
    "        \n",
    "    return annual_tax, taxable_income\n",
    "\n",
    "# --- विजेटहरू (UI Components) ---\n",
    "style = {'description_width': 'initial'}\n",
    "monthly_income_input = widgets.FloatText(\n",
    "    description=\"मासिक कुल आय (रु):\", style=style, value=60000\n",
    ")\n",
    "marital_status_toggle = widgets.ToggleButtons(\n",
    "    options=['अविवाहित', 'विवाहित'], description='वैवाहिक स्थिति:', style=style\n",
    ")\n",
    "contribution_choice = widgets.RadioButtons(\n",
    "    options=['कुनै योगदान छैन', 'सामाजिक सुरक्षा कोष (SSF)', 'सञ्चय कोष/नागरिक लगानी कोष (PF/CIT)'],\n",
    "    description='योगदान प्रकार:', style=style,\n",
    "    layout={'width': 'max-content'}\n",
    ")\n",
    "contribution_amount_input = widgets.FloatText(\n",
    "    description=\"मासिक PF/CIT योगदान (रु):\", style=style, value=0, disabled=True\n",
    ")\n",
    "calculate_button = widgets.Button(\n",
    "    description=\"कर गणना गर्नुहोस्\", button_style='success', icon='calculator'\n",
    ")\n",
    "output_area = widgets.Output()\n",
    "\n",
    "def on_contribution_choice_change(change):\n",
    "    \"\"\"PF/CIT छनोट गर्दा मात्र योगदान रकम बाकस देखाउने।\"\"\"\n",
    "    if change.new == 'सञ्चय कोष/नागरिक लगानी कोष (PF/CIT)':\n",
    "        contribution_amount_input.disabled = False\n",
    "    else:\n",
    "        contribution_amount_input.disabled = True\n",
    "        contribution_amount_input.value = 0\n",
    "\n",
    "contribution_choice.observe(on_contribution_choice_change, names='value')\n",
    "\n",
    "def on_calculate_button_clicked(b):\n",
    "    with output_area:\n",
    "        clear_output(wait=True)\n",
    "        \n",
    "        monthly_income = monthly_income_input.value\n",
    "        marital_status = marital_status_toggle.value\n",
    "        has_ssf = (contribution_choice.value == 'सामाजिक सुरक्षा कोष (SSF)')\n",
    "        monthly_pf_cit = contribution_amount_input.value if contribution_choice.value == 'सञ्चय कोष/नागरिक लगानी कोष (PF/CIT)' else 0\n",
    "        \n",
    "        # वार्षिक हिसाब\n",
    "        annual_income = monthly_income * 12\n",
    "        annual_pf_cit = monthly_pf_cit * 12\n",
    "\n",
    "        annual_tax, taxable_income = calculate_tax(annual_income, marital_status, has_ssf, annual_pf_cit)\n",
    "        monthly_tax = annual_tax / 12\n",
    "        \n",
    "        # परिणामलाई DataFrame मा देखाउने\n",
    "        report_data = {\n",
    "            \"विवरण\": [\n",
    "                \"कुल वार्षिक आय\",\n",
    "                \"कुल करयोग्य आय\",\n",
    "                \"कुल वार्षिक कर\",\n",
    "                \"औसत मासिक कर\"\n",
    "            ],\n",
    "            \"रकम (रु.)\": [\n",
    "                f\"{annual_income:,.2f}\",\n",
    "                f\"{taxable_income:,.2f}\",\n",
    "                f\"{annual_tax:,.2f}\",\n",
    "                f\"{monthly_tax:,.2f}\"\n",
    "            ]\n",
    "        }\n",
    "        df = pd.DataFrame(report_data)\n",
    "        \n",
    "        display(HTML(\"<h3>तपाईंको कर विवरण (आ.व. २०८१/८२)</h3>\"))\n",
    "        display(df)\n",
    "        \n",
    "calculate_button.on_click(on_calculate_button_clicked)\n",
    "\n",
    "# --- UI प्रदर्शन ---\n",
    "form = widgets.VBox([\n",
    "    monthly_income_input,\n",
    "    marital_status_toggle,\n",
    "    contribution_choice,\n",
    "    contribution_amount_input,\n",
    "    calculate_button\n",
    "])\n",
    "\n",
    "display(HTML(\"<h2>नेपाल आयकर क्याल्कुलेटर (FY 2081/82)</h2>\"))\n",
    "display(HTML(\"<p>आफ्नो मासिक आय र अन्य विवरणहरू प्रविष्ट गरी करको हिसाब गर्नुहोस्।</p>\"))\n",
    "display(form)\n",
    "display(output_area)"
   ]
  },
  {
   "cell_type": "code",
   "execution_count": 3,
   "id": "eea3cafd",
   "metadata": {},
   "outputs": [
    {
     "name": "stdout",
     "output_type": "stream",
     "text": [
      "Collecting ipycanvas\n",
      "  Downloading ipycanvas-0.14.1-py2.py3-none-any.whl.metadata (6.3 kB)\n",
      "Requirement already satisfied: ipywidgets<9,>=7.6.0 in /opt/anaconda3/lib/python3.13/site-packages (from ipycanvas) (8.1.5)\n",
      "Requirement already satisfied: numpy in /opt/anaconda3/lib/python3.13/site-packages (from ipycanvas) (2.1.3)\n",
      "Requirement already satisfied: pillow>=6.0 in /opt/anaconda3/lib/python3.13/site-packages (from ipycanvas) (11.1.0)\n",
      "Requirement already satisfied: comm>=0.1.3 in /opt/anaconda3/lib/python3.13/site-packages (from ipywidgets<9,>=7.6.0->ipycanvas) (0.2.1)\n",
      "Requirement already satisfied: ipython>=6.1.0 in /opt/anaconda3/lib/python3.13/site-packages (from ipywidgets<9,>=7.6.0->ipycanvas) (8.30.0)\n",
      "Requirement already satisfied: traitlets>=4.3.1 in /opt/anaconda3/lib/python3.13/site-packages (from ipywidgets<9,>=7.6.0->ipycanvas) (5.14.3)\n",
      "Requirement already satisfied: widgetsnbextension~=4.0.12 in /opt/anaconda3/lib/python3.13/site-packages (from ipywidgets<9,>=7.6.0->ipycanvas) (4.0.13)\n",
      "Requirement already satisfied: jupyterlab-widgets~=3.0.12 in /opt/anaconda3/lib/python3.13/site-packages (from ipywidgets<9,>=7.6.0->ipycanvas) (3.0.13)\n",
      "Requirement already satisfied: decorator in /opt/anaconda3/lib/python3.13/site-packages (from ipython>=6.1.0->ipywidgets<9,>=7.6.0->ipycanvas) (5.1.1)\n",
      "Requirement already satisfied: jedi>=0.16 in /opt/anaconda3/lib/python3.13/site-packages (from ipython>=6.1.0->ipywidgets<9,>=7.6.0->ipycanvas) (0.19.2)\n",
      "Requirement already satisfied: matplotlib-inline in /opt/anaconda3/lib/python3.13/site-packages (from ipython>=6.1.0->ipywidgets<9,>=7.6.0->ipycanvas) (0.1.6)\n",
      "Requirement already satisfied: prompt-toolkit<3.1.0,>=3.0.41 in /opt/anaconda3/lib/python3.13/site-packages (from ipython>=6.1.0->ipywidgets<9,>=7.6.0->ipycanvas) (3.0.43)\n",
      "Requirement already satisfied: pygments>=2.4.0 in /opt/anaconda3/lib/python3.13/site-packages (from ipython>=6.1.0->ipywidgets<9,>=7.6.0->ipycanvas) (2.19.1)\n",
      "Requirement already satisfied: stack-data in /opt/anaconda3/lib/python3.13/site-packages (from ipython>=6.1.0->ipywidgets<9,>=7.6.0->ipycanvas) (0.2.0)\n",
      "Requirement already satisfied: pexpect>4.3 in /opt/anaconda3/lib/python3.13/site-packages (from ipython>=6.1.0->ipywidgets<9,>=7.6.0->ipycanvas) (4.8.0)\n",
      "Requirement already satisfied: wcwidth in /opt/anaconda3/lib/python3.13/site-packages (from prompt-toolkit<3.1.0,>=3.0.41->ipython>=6.1.0->ipywidgets<9,>=7.6.0->ipycanvas) (0.2.5)\n",
      "Requirement already satisfied: parso<0.9.0,>=0.8.4 in /opt/anaconda3/lib/python3.13/site-packages (from jedi>=0.16->ipython>=6.1.0->ipywidgets<9,>=7.6.0->ipycanvas) (0.8.4)\n",
      "Requirement already satisfied: ptyprocess>=0.5 in /opt/anaconda3/lib/python3.13/site-packages (from pexpect>4.3->ipython>=6.1.0->ipywidgets<9,>=7.6.0->ipycanvas) (0.7.0)\n",
      "Requirement already satisfied: executing in /opt/anaconda3/lib/python3.13/site-packages (from stack-data->ipython>=6.1.0->ipywidgets<9,>=7.6.0->ipycanvas) (0.8.3)\n",
      "Requirement already satisfied: asttokens in /opt/anaconda3/lib/python3.13/site-packages (from stack-data->ipython>=6.1.0->ipywidgets<9,>=7.6.0->ipycanvas) (3.0.0)\n",
      "Requirement already satisfied: pure-eval in /opt/anaconda3/lib/python3.13/site-packages (from stack-data->ipython>=6.1.0->ipywidgets<9,>=7.6.0->ipycanvas) (0.2.2)\n",
      "Downloading ipycanvas-0.14.1-py2.py3-none-any.whl (142 kB)\n",
      "Installing collected packages: ipycanvas\n",
      "Successfully installed ipycanvas-0.14.1\n"
     ]
    }
   ],
   "source": [
    "!pip install ipycanvas"
   ]
  },
  {
   "cell_type": "code",
   "execution_count": 4,
   "id": "06e82825",
   "metadata": {},
   "outputs": [
    {
     "name": "stdout",
     "output_type": "stream",
     "text": [
      "====== नेपालको झण्डा ======\n"
     ]
    },
    {
     "data": {
      "application/vnd.jupyter.widget-view+json": {
       "model_id": "d8ffe7a1b22c4b148a9aac918a2ac039",
       "version_major": 2,
       "version_minor": 0
      },
      "text/plain": [
       "Canvas(height=600, width=600)"
      ]
     },
     "metadata": {},
     "output_type": "display_data"
    }
   ],
   "source": [
    "import math\n",
    "from ipycanvas import Canvas\n",
    "\n",
    "# --- क्यानभास सिर्जना ---\n",
    "# ६००x६०० पिक्सेलको क्यानभास बनाउने\n",
    "canvas = Canvas(width=600, height=600)\n",
    "\n",
    "def create_flag(ctx):\n",
    "    \"\"\"नेपालको झण्डाको बाहिरी भाग (pennants) बनाउँछ।\"\"\"\n",
    "    \n",
    "    # झण्डाको रङ र बोर्डरको मोटाई सेट गर्ने\n",
    "    ctx.stroke_style = 'blue'\n",
    "    ctx.fill_style = 'crimson' # नेपालको झण्डाको आधिकारिक रङ 'crimson red' हो\n",
    "    ctx.line_width = 8 # बोर्डरको मोटाई\n",
    "    \n",
    "    ctx.begin_path()\n",
    "    \n",
    "    # झण्डाको आकार कोर्ने\n",
    "    # Coordinates लाई JS कोडबाट मिलाइएको छ\n",
    "    ctx.move_to(100, 50)     # १. माथिल्लो बिन्दु\n",
    "    ctx.line_to(450, 250)    # २. माथिल्लो त्रिकोणको टुप्पो\n",
    "    ctx.line_to(220, 250)    # ३. बीचको भित्री बिन्दु\n",
    "    ctx.line_to(450, 450)    # ४. तल्लो त्रिकोणको टुप्पो\n",
    "    ctx.line_to(100, 450)    # ५. तल्लो बिन्दु\n",
    "    ctx.close_path()         # सुरुको बिन्दुमा जोड्ने\n",
    "    \n",
    "    ctx.fill()\n",
    "    ctx.stroke()\n",
    "\n",
    "def draw_moon(ctx):\n",
    "    \"\"\"माथिल्लो भागमा चन्द्रमा बनाउँछ।\"\"\"\n",
    "    \n",
    "    ctx.begin_path()\n",
    "    ctx.line_width = 2\n",
    "    ctx.stroke_style = 'white'\n",
    "    ctx.fill_style = 'white'\n",
    "    \n",
    "    # JS कोडमा भएको चन्द्रमाको आकारलाई यहाँ उतारिएको छ\n",
    "    ctx.move_to(210, 190)\n",
    "    ctx.line_to(200, 170)\n",
    "    ctx.line_to(185, 190)\n",
    "    ctx.line_to(175, 170)\n",
    "    ctx.line_to(160, 190)\n",
    "    ctx.line_to(145, 170)\n",
    "    ctx.line_to(135, 190)\n",
    "    ctx.arc(172, 190, 37, 0, math.pi) # अर्ध-वृत्त\n",
    "    \n",
    "    ctx.fill()\n",
    "    ctx.stroke()\n",
    "\n",
    "def draw_sun(ctx):\n",
    "    \"\"\"तल्लो भागमा सूर्य बनाउँछ।\"\"\"\n",
    "    \n",
    "    ctx.begin_path()\n",
    "    ctx.fill_style = 'white'\n",
    "    ctx.stroke_style = 'white'\n",
    "    ctx.line_width = 2\n",
    "\n",
    "    # JS कोडमा भएको सूर्यको १२-कुने आकार\n",
    "    ctx.move_to(180, 340) # Start point\n",
    "    \n",
    "    ctx.line_to(175, 350)\n",
    "    ctx.line_to(155, 345)\n",
    "    ctx.line_to(165, 360)\n",
    "    ctx.line_to(145, 365)\n",
    "    ctx.line_to(160, 375)\n",
    "    ctx.line_to(145, 385)\n",
    "    ctx.line_to(160, 395)\n",
    "    ctx.line_to(150, 410)\n",
    "    ctx.line_to(170, 408)\n",
    "    ctx.line_to(180, 425) # Bottom point\n",
    "    ctx.line_to(190, 410)\n",
    "    ctx.line_to(208, 422)\n",
    "    ctx.line_to(210, 405)\n",
    "    ctx.line_to(230, 405)\n",
    "    ctx.line_to(223, 390)\n",
    "    ctx.line_to(242, 385)\n",
    "    ctx.line_to(222, 372)\n",
    "    ctx.line_to(235, 355)\n",
    "    ctx.line_to(215, 355)\n",
    "    ctx.line_to(210, 330)\n",
    "    ctx.line_to(200, 350)\n",
    "\n",
    "    ctx.close_path()\n",
    "    ctx.fill()\n",
    "    ctx.stroke()\n",
    "\n",
    "# --- मुख्य कार्य ---\n",
    "# क्यानभासमा सबै आकृतिहरू कोर्ने\n",
    "print(\"====== नेपालको झण्डा ======\")\n",
    "create_flag(canvas)\n",
    "draw_moon(canvas)\n",
    "draw_sun(canvas)\n",
    "\n",
    "# अन्तिममा क्यानभास प्रदर्शन गर्ने\n",
    "display(canvas)"
   ]
  },
  {
   "cell_type": "code",
   "execution_count": null,
   "id": "14bd0076",
   "metadata": {},
   "outputs": [],
   "source": []
  }
 ],
 "metadata": {
  "kernelspec": {
   "display_name": "base",
   "language": "python",
   "name": "python3"
  },
  "language_info": {
   "codemirror_mode": {
    "name": "ipython",
    "version": 3
   },
   "file_extension": ".py",
   "mimetype": "text/x-python",
   "name": "python",
   "nbconvert_exporter": "python",
   "pygments_lexer": "ipython3",
   "version": "3.13.5"
  }
 },
 "nbformat": 4,
 "nbformat_minor": 5
}
