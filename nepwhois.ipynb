{
 "cells": [
  {
   "cell_type": "code",
   "execution_count": 1,
   "id": "7be4cad4",
   "metadata": {},
   "outputs": [
    {
     "name": "stdout",
     "output_type": "stream",
     "text": [
      "======== .NP डोमेन WHOIS Lookup ========\n"
     ]
    },
    {
     "data": {
      "application/vnd.jupyter.widget-view+json": {
       "model_id": "478c800cf27f44fdbf6df5672d62c56f",
       "version_major": 2,
       "version_minor": 0
      },
      "text/plain": [
       "HBox(children=(Text(value='google', description='डोमेन नाम:', placeholder='यहाँ डोमेन नाम लेख्नुहोस्', style=T…"
      ]
     },
     "metadata": {},
     "output_type": "display_data"
    },
    {
     "data": {
      "application/vnd.jupyter.widget-view+json": {
       "model_id": "720212f390ec48b1b64853e0141db5f6",
       "version_major": 2,
       "version_minor": 0
      },
      "text/plain": [
       "Button(button_style='success', description='WHOIS जानकारी हेर्नुहोस्', icon='search', style=ButtonStyle(), too…"
      ]
     },
     "metadata": {},
     "output_type": "display_data"
    },
    {
     "data": {
      "application/vnd.jupyter.widget-view+json": {
       "model_id": "7a7fe76018fc47118ca7daf15354e778",
       "version_major": 2,
       "version_minor": 0
      },
      "text/plain": [
       "Output()"
      ]
     },
     "metadata": {},
     "output_type": "display_data"
    }
   ],
   "source": [
    "import requests\n",
    "from bs4 import BeautifulSoup\n",
    "import pandas as pd\n",
    "import ipywidgets as widgets\n",
    "from IPython.display import display, HTML, clear_output\n",
    "\n",
    "# --- विजेटहरू (UI Components) ---\n",
    "domain_input = widgets.Text(\n",
    "    value='google',\n",
    "    placeholder='यहाँ डोमेन नाम लेख्नुहोस्',\n",
    "    description='डोमेन नाम:',\n",
    "    style={'description_width': 'initial'}\n",
    ")\n",
    "\n",
    "extension_dropdown = widgets.Dropdown(\n",
    "    options=['.com.np', '.org.np', '.edu.np', '.gov.np', '.net.np'],\n",
    "    value='.com.np',\n",
    "    description='एक्सटेन्सन:',\n",
    "    style={'description_width': 'initial'}\n",
    ")\n",
    "\n",
    "lookup_button = widgets.Button(\n",
    "    description=\"WHOIS जानकारी हेर्नुहोस्\",\n",
    "    button_style='success',\n",
    "    tooltip='Click to get WHOIS information',\n",
    "    icon='search'\n",
    ")\n",
    "\n",
    "# आउटपुट देखाउने ठाउँ\n",
    "output_area = widgets.Output()\n",
    "\n",
    "\n",
    "# --- मुख्य कार्य (Main Function) ---\n",
    "def get_whois_info(b):\n",
    "    \"\"\"बटन क्लिक गर्दा यो function चल्छ।\"\"\"\n",
    "    domain = domain_input.value.strip()\n",
    "    extension = extension_dropdown.value\n",
    "    \n",
    "    # आउटपुट क्षेत्र खाली गर्ने\n",
    "    with output_area:\n",
    "        clear_output(wait=True)\n",
    "        \n",
    "        if not domain:\n",
    "            print(\"त्रुटि: डोमेन नाम खाली हुन सक्दैन।\")\n",
    "            return\n",
    "\n",
    "        print(f\"'{domain}{extension}' को जानकारी खोजिँदैछ, कृपया पर्खनुहोस्...\")\n",
    "\n",
    "        # Step 1: CSRF टोकन र कुकीहरू प्राप्त गर्ने\n",
    "        session = requests.Session()\n",
    "        lookup_url = \"https://register.com.np/whois-lookup\"\n",
    "        post_url = \"https://register.com.np/checkdomain_whois\"\n",
    "        \n",
    "        try:\n",
    "            # GET request पठाएर session र token लिने\n",
    "            response_get = session.get(lookup_url)\n",
    "            response_get.raise_for_status() # HTTP त्रुटि भएमा error raise गर्ने\n",
    "            \n",
    "            soup_get = BeautifulSoup(response_get.text, 'html.parser')\n",
    "            token = soup_get.find('input', {'name': '_token'}).get('value')\n",
    "            \n",
    "            if not token:\n",
    "                print(\"त्रुटि: CSRF टोकन फेला परेन। वेबसाइटको संरचना परिवर्तन भएको हुन सक्छ।\")\n",
    "                return\n",
    "\n",
    "            # Step 2: WHOIS जानकारीको लागि POST request पठाउने\n",
    "            payload = {\n",
    "                '_token': token,\n",
    "                'domainName': domain,\n",
    "                'domainExtension': extension,\n",
    "            }\n",
    "            \n",
    "            response_post = session.post(post_url, data=payload)\n",
    "            response_post.raise_for_status()\n",
    "\n",
    "            # Step 3: आएको HTML लाई parse गर्ने\n",
    "            soup_post = BeautifulSoup(response_post.text, 'html.parser')\n",
    "            \n",
    "            # यदि डोमेन दर्ता छैन भने, सोही अनुसारको सन्देश देखाउने\n",
    "            not_registered_msg = soup_post.find(\n",
    "                'div', \n",
    "                class_='alert-danger'\n",
    "            )\n",
    "            if not_registered_msg and \"is not registered\" in not_registered_msg.text:\n",
    "                print(f\"जानकारी: डोमेन '{domain}{extension}' दर्ता गरिएको छैन।\")\n",
    "                return\n",
    "\n",
    "            # जानकारी भएको table खोज्ने\n",
    "            whois_table = soup_post.find('table', class_='table-bordered')\n",
    "\n",
    "            if not whois_table:\n",
    "                print(\"त्रुटि: WHOIS जानकारीको तालिका फेला परेन।\")\n",
    "                return\n",
    "\n",
    "            # तालिकाबाट डाटा निकालेर dictionary मा राख्ने\n",
    "            whois_info = {}\n",
    "            rows = whois_table.find_all('tr')\n",
    "            for row in rows:\n",
    "                columns = row.find_all('td')\n",
    "                if len(columns) == 2:\n",
    "                    key = columns[0].text.strip()\n",
    "                    value = columns[1].text.strip()\n",
    "                    whois_info[key] = value\n",
    "\n",
    "            # Step 4: जानकारीलाई राम्रोसँग प्रदर्शन गर्ने (Pandas DataFrame प्रयोग गरेर)\n",
    "            if whois_info:\n",
    "                df = pd.DataFrame(list(whois_info.items()), columns=['विवरण', 'जानकारी'])\n",
    "                clear_output(wait=True) # \"खोजिँदैछ\" सन्देश हटाउने\n",
    "                display(HTML(f\"<h3>'{domain}{extension}' को WHOIS जानकारी</h3>\"))\n",
    "                display(df)\n",
    "            else:\n",
    "                print(\"कुनै जानकारी फेला परेन।\")\n",
    "\n",
    "        except requests.exceptions.RequestException as e:\n",
    "            print(f\"नेटवर्क त्रुटि: {e}\")\n",
    "        except Exception as e:\n",
    "            print(f\"एउटा अज्ञात त्रुटि भयो: {e}\")\n",
    "\n",
    "# बटनको on_click event मा function लाई जोड्ने\n",
    "lookup_button.on_click(get_whois_info)\n",
    "\n",
    "# UI लाई प्रदर्शन गर्ने\n",
    "print(\"======== .NP डोमेन WHOIS Lookup ========\")\n",
    "display(widgets.HBox([domain_input, extension_dropdown]))\n",
    "display(lookup_button)\n",
    "display(output_area)"
   ]
  },
  {
   "cell_type": "code",
   "execution_count": null,
   "id": "2729a32e",
   "metadata": {},
   "outputs": [],
   "source": []
  }
 ],
 "metadata": {
  "kernelspec": {
   "display_name": "base",
   "language": "python",
   "name": "python3"
  },
  "language_info": {
   "codemirror_mode": {
    "name": "ipython",
    "version": 3
   },
   "file_extension": ".py",
   "mimetype": "text/x-python",
   "name": "python",
   "nbconvert_exporter": "python",
   "pygments_lexer": "ipython3",
   "version": "3.13.5"
  }
 },
 "nbformat": 4,
 "nbformat_minor": 5
}
