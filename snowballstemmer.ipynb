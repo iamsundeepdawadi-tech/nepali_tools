{
 "cells": [
  {
   "cell_type": "code",
   "execution_count": null,
   "id": "248bc64d",
   "metadata": {},
   "outputs": [
    {
     "name": "stdout",
     "output_type": "stream",
     "text": [
      "✅ Nepali stemmer created successfully!\n"
     ]
    }
   ],
   "source": [
    "import snowballstemmer\n",
    "\n",
    "# Create a stemmer for the Nepali language\n",
    "try:\n",
    "    nepali_stemmer = snowballstemmer.stemmer('nepali')\n",
    "    print(\"✅ Nepali stemmer created successfully!\")\n",
    "except Exception as e:\n",
    "    print(f\"❌ Could not create stemmer. Is 'nepali' a supported language? Error: {e}\")\n",
    "    print(\"Supported languages are:\", snowballstemmer.algorithms())"
   ]
  },
  {
   "cell_type": "code",
   "execution_count": null,
   "id": "90e3128e",
   "metadata": {},
   "outputs": [
    {
     "name": "stdout",
     "output_type": "stream",
     "text": [
      "--- Nepali Stemming in Action ---\n",
      "\n",
      "Original Word   | Stemmed Root\n",
      "------------------------------\n",
      "केटाहरू         | केटा\n",
      "विद्यालयमा      | विद्यालय\n",
      "राम्रोसँग       | राम्रो\n",
      "पढ्दैथिए        | पढ्\n"
     ]
    }
   ],
   "source": [
    "# A sentence in Nepali with different word forms\n",
    "nepali_sentence = \"केटाहरू विद्यालयमा राम्रोसँग पढ्दैथिए\"\n",
    "# Translation: \"The boys were studying well in school\"\n",
    "\n",
    "# Let's break it down into individual words\n",
    "words_to_stem = [\n",
    "    \"केटाहरू\",  # Boys (plural of केटा - boy)\n",
    "    \"विद्यालयमा\", # In the school (from विद्यालय - school)\n",
    "    \"राम्रोसँग\", # Nicely (from राम्रो - good)\n",
    "    \"पढ्दैथिए\"   # Were studying (from पढ्नु - to study)\n",
    "]\n",
    "\n",
    "# Use the stemmer to find the root of each word\n",
    "stemmed_words = nepali_stemmer.stemWords(words_to_stem)\n",
    "\n",
    "# Print the results in a nice format\n",
    "print(\"--- Nepali Stemming in Action ---\\n\")\n",
    "print(f\"{'Original Word':<15} | {'Stemmed Root'}\")\n",
    "print(\"-\" * 30)\n",
    "\n",
    "for original, stemmed in zip(words_to_stem, stemmed_words):\n",
    "    print(f\"{original:<15} | {stemmed}\")"
   ]
  },
  {
   "cell_type": "code",
   "execution_count": 3,
   "id": "d5643976",
   "metadata": {},
   "outputs": [
    {
     "name": "stdout",
     "output_type": "stream",
     "text": [
      "--- Testing Nepali Stemmer with 20+ Examples ---\n",
      "No.  | Original Word   | Stemmed Root\n",
      "---------------------------------------------\n",
      "1    | किताबहरू        | किताब\n",
      "2    | घरमा            | घर\n",
      "3    | रामको           | राम\n",
      "4    | साथीलाई         | सा\n",
      "5    | शहरबाट          | शहरबाट\n",
      "6    | मानिसले         | मानिस\n",
      "7    | गर्दैछु         | गर्\n",
      "8    | खायो            | खा\n",
      "9    | जानेछ           | जा\n",
      "10   | पढ्नुहुन्छ      | पढ्\n",
      "11   | खेलेका          | खेल\n",
      "12   | हिँड्दैथिए      | हिँड्\n",
      "13   | हाँस्यो         | हाँस्\n",
      "14   | सुन्दरता        | सुन्दरता\n",
      "15   | नेपाली          | नेपाली\n",
      "16   | मित्रता         | मित्रता\n",
      "17   | छिटोसँग         | छिटो\n",
      "18   | बालकपन          | बालकपन\n",
      "19   | विद्यालय        | विद्यालय\n",
      "20   | खुशी            | खुशी\n",
      "21   | आज              | आज\n",
      "\n",
      "--- Test Complete ---\n"
     ]
    }
   ],
   "source": [
    "# 2. A list of 20+ diverse Nepali words for testing\n",
    "words_to_test = [\n",
    "    # --- Nouns with Suffixes ---\n",
    "    \"किताबहरू\",    # books (plural)\n",
    "    \"घरमा\",          # in the house (case marker 'ma')\n",
    "    \"रामको\",        # Ram's (case marker 'ko')\n",
    "    \"साथीलाई\",      # to the friend (case marker 'lai')\n",
    "    \"शहरबाट\",      # from the city (case marker 'bata')\n",
    "    \"मानिसले\",      # by the person (case marker 'le')\n",
    "    \n",
    "    # --- Verbs with Different Tenses/Forms ---\n",
    "    \"गर्दैछु\",        # am doing (present continuous)\n",
    "    \"खायो\",          # ate (simple past)\n",
    "    \"जानेछ\",        # will go (future)\n",
    "    \"पढ्नुहुन्छ\",    # studies/reads (formal present)\n",
    "    \"खेलेका\",       # have played (past participle)\n",
    "    \"हिँड्दैथिए\",    # were walking (past continuous)\n",
    "    \"हाँस्यो\",        # laughed (simple past)\n",
    "    \n",
    "    # --- Derived and Compound Words ---\n",
    "    \"सुन्दरता\",      # beauty (derived from 'sundar' - beautiful)\n",
    "    \"नेपाली\",        # Nepali (derived from 'Nepal')\n",
    "    \"मित्रता\",      # friendship (derived from 'mitra' - friend)\n",
    "    \"छिटोसँग\",      # quickly (adverbial form)\n",
    "    \"बालकपन\",      # childhood\n",
    "    \n",
    "    # --- Words that should change less ---\n",
    "    \"विद्यालय\",    # school (root word)\n",
    "    \"खुशी\",          # happy \n",
    "    \"आज\"           # today\n",
    "]\n",
    "\n",
    "# 3. Stem the words\n",
    "stemmed_results = nepali_stemmer.stemWords(words_to_test)\n",
    "\n",
    "# 4. Print the results in a formatted table\n",
    "print(\"--- Testing Nepali Stemmer with 20+ Examples ---\")\n",
    "print(f\"{'No.':<4} | {'Original Word':<15} | {'Stemmed Root'}\")\n",
    "print(\"-\" * 45)\n",
    "\n",
    "for i, (original, stemmed) in enumerate(zip(words_to_test, stemmed_results), 1):\n",
    "    print(f\"{i:<4} | {original:<15} | {stemmed}\")\n",
    "\n",
    "print(\"\\n--- Test Complete ---\")"
   ]
  },
  {
   "cell_type": "code",
   "execution_count": null,
   "id": "04267602",
   "metadata": {},
   "outputs": [],
   "source": []
  }
 ],
 "metadata": {
  "kernelspec": {
   "display_name": "base",
   "language": "python",
   "name": "python3"
  },
  "language_info": {
   "codemirror_mode": {
    "name": "ipython",
    "version": 3
   },
   "file_extension": ".py",
   "mimetype": "text/x-python",
   "name": "python",
   "nbconvert_exporter": "python",
   "pygments_lexer": "ipython3",
   "version": "3.13.5"
  }
 },
 "nbformat": 4,
 "nbformat_minor": 5
}
