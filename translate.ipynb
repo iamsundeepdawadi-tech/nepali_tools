{
 "cells": [
  {
   "cell_type": "code",
   "execution_count": null,
   "id": "b31152cc",
   "metadata": {},
   "outputs": [],
   "source": [
    "# !pip install googletrans"
   ]
  },
  {
   "cell_type": "code",
   "execution_count": 6,
   "id": "ebf4e5e1",
   "metadata": {},
   "outputs": [
    {
     "name": "stdout",
     "output_type": "stream",
     "text": [
      "Original text: Hello, world!\n",
      "Translated text: नमस्कार, संसार!\n"
     ]
    }
   ],
   "source": [
    "import asyncio\n",
    "from googletrans import Translator\n",
    "\n",
    "# Define the asynchronous function as before\n",
    "async def translate_text():\n",
    "    async with Translator() as translator:\n",
    "        text_to_translate = \"Hello, world!\"\n",
    "        \n",
    "        # Use 'await' to get the result\n",
    "        translated_text = await translator.translate(text_to_translate, dest='ne')\n",
    "\n",
    "        print(f\"Original text: {translated_text.origin}\")\n",
    "        print(f\"Translated text: {translated_text.text}\")\n",
    "\n",
    "# Now, simply 'await' the function call directly in the cell\n",
    "# Do NOT use asyncio.run()\n",
    "await translate_text()"
   ]
  },
  {
   "cell_type": "code",
   "execution_count": null,
   "id": "cb22e9b6",
   "metadata": {},
   "outputs": [],
   "source": []
  }
 ],
 "metadata": {
  "kernelspec": {
   "display_name": "base",
   "language": "python",
   "name": "python3"
  },
  "language_info": {
   "codemirror_mode": {
    "name": "ipython",
    "version": 3
   },
   "file_extension": ".py",
   "mimetype": "text/x-python",
   "name": "python",
   "nbconvert_exporter": "python",
   "pygments_lexer": "ipython3",
   "version": "3.13.5"
  }
 },
 "nbformat": 4,
 "nbformat_minor": 5
}
